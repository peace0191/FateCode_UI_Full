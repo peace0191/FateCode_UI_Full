{
  "nbformat": 4,
  "nbformat_minor": 0,
  "metadata": {
    "colab": {
      "provenance": [],
      "authorship_tag": "ABX9TyPEDKEfXsH+b1emPWf1Qo8t",
      "include_colab_link": true
    },
    "kernelspec": {
      "name": "python3",
      "display_name": "Python 3"
    },
    "language_info": {
      "name": "python"
    }
  },
  "cells": [
    {
      "cell_type": "markdown",
      "metadata": {
        "id": "view-in-github",
        "colab_type": "text"
      },
      "source": [
        "<a href=\"https://colab.research.google.com/github/peace0191/FateCode_UI_Full/blob/main/%EB%8C%80%EC%B9%98%EB%8F%99_Top5_%EC%A0%84%EC%84%B8_%EC%A0%80%ED%8F%89%EA%B0%80_%EC%B6%94%EC%B2%9C_%ED%94%84%EB%A1%9C%EC%A0%9D%ED%8A%B8.ipynb\" target=\"_parent\"><img src=\"https://colab.research.google.com/assets/colab-badge.svg\" alt=\"Open In Colab\"/></a>"
      ]
    },
    {
      "cell_type": "code",
      "execution_count": 3,
      "metadata": {
        "colab": {
          "base_uri": "https://localhost:8080/"
        },
        "id": "Kw-tmHZHaIaA",
        "outputId": "84460f64-46b1-4f60-dfd1-b79b58a76224"
      },
      "outputs": [
        {
          "output_type": "stream",
          "name": "stdout",
          "text": [
            "1300005000\n"
          ]
        }
      ],
      "source": [
        "# 대치동 Top5 전세 저평가 추천 프로젝트\\n\",\n",
        "import re\n",
        "\n",
        "def parse_price_kor(text):\n",
        "    s = text.replace(\",\", \"\").replace(\"전세\", \"\").replace(\" \", \"\")\n",
        "    total = 0\n",
        "    if \"억\" in s:\n",
        "        parts = s.split(\"억\")\n",
        "        total += int(parts[0]) * 100_000_000\n",
        "        if len(parts) > 1 and parts[1].isdigit():\n",
        "            total += int(parts[1])\n",
        "    elif \"만\" in s:\n",
        "        total += int(s.replace(\"만\", \"\")) * 10_000\n",
        "    else:\n",
        "        nums = re.findall(r\"\\d+\", s)\n",
        "        if nums: total = int(nums[0])\n",
        "    return total\n",
        "\n",
        "print(parse_price_kor(\"전세 13억5,000\"))"
      ]
    }
  ]
}