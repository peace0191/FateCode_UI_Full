{
  "nbformat": 4,
  "nbformat_minor": 0,
  "metadata": {
    "colab": {
      "provenance": [],
      "authorship_tag": "ABX9TyP/HslXD5UyfGB85rXLHDOI",
      "include_colab_link": true
    },
    "kernelspec": {
      "name": "python3",
      "display_name": "Python 3"
    },
    "language_info": {
      "name": "python"
    }
  },
  "cells": [
    {
      "cell_type": "markdown",
      "metadata": {
        "id": "view-in-github",
        "colab_type": "text"
      },
      "source": [
        "<a href=\"https://colab.research.google.com/github/peace0191/FateCode_UI_Full/blob/main/%5B%EA%B0%95%EC%9D%98%EC%9E%90%EB%A3%8C%5D_AI_%EB%8D%B0%EC%9D%B4%ED%84%B0_%EC%BB%A4%EB%84%A5%ED%8B%B0%EC%8A%A4_1%EA%B8%B0_%ED%95%84%EC%88%98_ipynb%EC%9D%98_%EC%82%AC%EB%B3%B8.ipynb\" target=\"_parent\"><img src=\"https://colab.research.google.com/assets/colab-badge.svg\" alt=\"Open In Colab\"/></a>"
      ]
    },
    {
      "cell_type": "code",
      "execution_count": null,
      "metadata": {
        "id": "n0Da5kWXWXvp"
      },
      "outputs": [],
      "source": []
    },
    {
      "cell_type": "markdown",
      "source": [
        "# [강의자료] AI 데이터 커넥티스_1기_필수\n",
        "\n",
        "### 한 번에 끝내는 컴퓨터 공학 & 인공지능 복수전공 초격차 패키지 Online.\n",
        "\n",
        "- [초격차 패키지 한 번에 끝내는 컴퓨터 공학 & 인공지능 복수전공 패키지.zip](https://cdn.day1company.io/prod/uploads/202411/145731-1636/%EC%B4%88%EA%B2%A9%EC%B0%A8-%ED%8C%A8%ED%82%A4%EC%A7%80--%ED%95%9C-%EB%B2%88%EC%97%90-%EB%81%9D%EB%82%B4%EB%8A%94-%EC%BB%B4%ED%93%A8%ED%84%B0-%EA%B3%B5%ED%95%99---%EC%9D%B8%EA%B3%B5%EC%A7%80%EB%8A%A5-%EB%B3%B5%EC%88%98%EC%A0%84%EA%B3%B5-%ED%8C%A8%ED%82%A4%EC%A7%80.zip)\n",
        "- [실습 문제](https://www.notion.so/9185c82f0d144606bd4f9a4e887fa8c7?pvs=21) | 추가 부록\n",
        "\n",
        "### 파이썬으로 할 수 있는 모든 것 with 47개 프로젝트 초격차 패키지 Online.\n",
        "\n",
        "- [[특별 제공] 한 번에 끝내는 파이썬 필수 문법 강의자료](https://storage.googleapis.com/static.fastcampus.co.kr/prod/uploads/202301/011938-827/part1.-%ED%95%9C-%EB%B2%88%EC%97%90-%EB%81%9D%EB%82%B4%EB%8A%94-%ED%8C%8C%EC%9D%B4%EC%8D%AC-%ED%95%84%EC%88%98-%EB%AC%B8%EB%B2%95-%EC%A0%84%EC%B2%B4.zip)\n",
        "- Part 1. 파이썬 라이브러리를 활용한 기초 프로젝트\n",
        "    - [Part 1_아나콘다설치방법(for Mac).pptx](https://storage.googleapis.com/static.fastcampus.co.kr/prod/uploads/202301/011010-24/part-1-%EC%95%84%EB%82%98%EC%BD%98%EB%8B%A4%EC%84%A4%EC%B9%98%EB%B0%A9%EB%B2%95-for-mac-.pptx)\n",
        "    - [part1.zip](https://storage.googleapis.com/static.fastcampus.co.kr/prod/uploads/202212/045558-827/part1.zip)\n",
        "- Part 2. 게임 프로젝트\n",
        "    - [Part 2.zip](https://storage.googleapis.com/static.fastcampus.co.kr/prod/uploads/202303/065853-827/part-2.zip)\n",
        "- Part3. 웹 크롤링 프로젝트 / Part4. 업무 자동화 프로젝트\n",
        "    - [part-3---part-4-강의자료.zip](https://storage.googleapis.com/static.fastcampus.co.kr/prod/uploads/202402/134053-1070/part-3---part-4-%EA%B0%95%EC%9D%98%EC%9E%90%EB%A3%8C.zip)\n",
        "    - [Part 3 GitHub URL](https://github.com/Kyeongrok/fastcampus-python-crawling)\n",
        "    - [Part4 GitHub URL](https://github.com/Kyeongrok/fc-python-automation)\n",
        "- Part5. 데이터 분석 및 시각화 프로젝트\n",
        "    - [Part5.zip](https://storage.googleapis.com/static.fastcampus.co.kr/prod/uploads/202303/053845-827/part5.zip)\n",
        "    - [Part5. GitHub URL](https://github.com/panda-kim/fastcampus)\n",
        "    - [Part5. Ch02.엑셀의 VLOOKUP 및 여러기능 판다스로 해보기의 엑셀파일.zip](https://storage.googleapis.com/static.fastcampus.co.kr/prod/uploads/202301/065605-827/part5.-ch02.%EC%97%91%EC%85%80%EC%9D%98-vlookup-%EB%B0%8F-%EC%97%AC%EB%9F%AC%EA%B8%B0%EB%8A%A5-%ED%8C%90%EB%8B%A4%EC%8A%A4%EB%A1%9C-%ED%95%B4%EB%B3%B4%EA%B8%B0%EC%9D%98-%EC%97%91%EC%85%80%ED%8C%8C%EC%9D%BC.zip)\n",
        "- Part6. 머신러닝 프로젝트\n",
        "    - [Part6.zip](https://storage.googleapis.com/static.fastcampus.co.kr/prod/uploads/202302/064147-827/part6.zip)\n",
        "    - [Part6. GitHub URL](https://github.com/DSNote/fastcampus)\n",
        "- Part7. 웹 개발 프로젝트 - Fastapi를 활용해 이미지 저장 및 서빙하기\n",
        "    - [Part7,8. FAQ를 꼭 확인 하세요.zip](https://storage.googleapis.com/static.fastcampus.co.kr/prod/uploads/202301/074457-827/part7,8.-faq%EB%A5%BC-%EA%BC%AD-%ED%99%95%EC%9D%B8-%ED%95%98%EC%84%B8%EC%9A%94.zip)\n",
        "    - [Part 7. FastAPI 강의자료.pdf](https://storage.googleapis.com/static.fastcampus.co.kr/prod/uploads/202302/083435-827/part-7.-fastapi-%EA%B0%95%EC%9D%98%EC%9E%90%EB%A3%8C.pdf)\n",
        "    - [Part 7. FastAPI GitHub URL](https://github.com/riseryan89/imizi-api)\n",
        "    - [Part 7. Django 강의자료.pdf](https://storage.googleapis.com/static.fastcampus.co.kr/prod/uploads/202303/013253-827/part-7.-django-%EA%B0%95%EC%9D%98%EC%9E%90%EB%A3%8C.pdf)\n",
        "    - [Part 7. Django GitHub URL](https://github.com/riseryan89/fastcampus_note)\n",
        "- Part8. 최종 프로젝트\n",
        "    - [Part 8. Final Project GitHub URL](https://github.com/riseryan89/fastcampus_rainday)\n",
        "    - [Part 8. Final Project 강의자료.pdf](https://storage.googleapis.com/static.fastcampus.co.kr/prod/uploads/202304/050929-827/part-8.-final-project-%EA%B0%95%EC%9D%98%EC%9E%90%EB%A3%8C.pdf)\n",
        "\n",
        "### 네카라쿠배 취업 끝장내는 파이썬 코딩테스트 마스터\n",
        "\n",
        "- [레포지토리 깃허브 URL](https://github.com/ckw1140/coding-test)\n",
        "- [[특별 제공] 한 번에 끝내는 파이썬 필수 문법.zip](https://storage.googleapis.com/static.fastcampus.co.kr/prod/uploads/202404/184502-1070/-%ED%8A%B9%EB%B3%84-%EC%A0%9C%EA%B3%B5--%ED%95%9C-%EB%B2%88%EC%97%90-%EB%81%9D%EB%82%B4%EB%8A%94-%ED%8C%8C%EC%9D%B4%EC%8D%AC-%ED%95%84%EC%88%98-%EB%AC%B8%EB%B2%95.zip)\n",
        "- [[부록] 코딩테스트 레벨테스트](https://www.notion.so/df570319f2ef4432b38b4f1124010146?pvs=21)\n",
        "- [[부록] 코딩테스트 전략서](https://www.notion.so/bf416b7e4c7247f2bff8b7a59ca369b0?pvs=21)\n",
        "\n",
        "### 초격차 패키지 : 50개 프로젝트로 완벽하게 끝내는 머신러닝 SIGNATURE\n",
        "\n",
        "- [수강생 강의자료 및 부가자료](https://drive.google.com/drive/folders/1mUOt0NlLVVlGfogYc77G8AMV97x6aNv2?usp=sharing)\n",
        "- [50개 프로젝트로 완벽하게 끝내는 머신러닝 시그니쳐 논문 리뷰 자료](https://www.notion.so/efe9f82d02a045de82fd8c2c30d822d8?pvs=21)\n",
        "\n",
        "### 초격차 패키지 : 딥러닝·인공지능 Signature\n",
        "\n",
        "- [수강생 강의 자료 & 부가 자료](https://drive.google.com/drive/u/0/folders/1Nt-_htmOefdgr74cZISYQ7Oz7ZWzq8YW)\n",
        "- [강화학습 강의 코드 자료 링크(1)](https://github.com/seungeunrho/RLfrombasics)\n",
        "- [강화학습 강의 코드 자료 링크(2)](https://github.com/seungeunrho/minimalRL)\n",
        "- [딥러닝·인공지능 Signature 논문 리뷰](https://www.notion.so/3b9778d1105d4032ba0dc2784afca957?pvs=21)\n",
        "\n",
        "### RAG를 활용한 완성도 높은 LLM 서비스 구축 With langchain & llamaindex\n",
        "\n",
        "- [Part 1. Introduction to RAG 강의 자료](https://drive.google.com/drive/folders/1AX_2AKCrAgaisLu6R9phW_hBJJD9JjZX)\n",
        "- [Part 2. RAG with LlamaIndex 강의 자료](https://drive.google.com/drive/folders/1xF75yv5hgp9KCs02pLQMePRhhgfwW6xY)\n",
        "- [Part 3. RAG with Langchain 강의 자료](https://drive.google.com/drive/folders/1aETcpn387dCMY-Pc9aGAebBtM2yerhDs)\n",
        "- [Part 4. ChatBot with Persona 강의 자료](https://drive.google.com/drive/folders/1wPzjvcUZNYf-M6A6eQGiEHS9TbzTvvAJ)\n",
        "\n",
        "### 10개 프로젝트로 한 번에 끝내는 MLOps 파이프라인 구현 초격차 패키지 Online.\n",
        "\n",
        "- [Part 1. 머신러닝, 제대로 알고 가자 강의 자료](https://drive.google.com/drive/folders/1xs38UFH4UhLrNrdby06tllyFyQ2bW1_M)\n",
        "- [Part 2. 머신러닝 상품화 강의 자료](https://drive.google.com/drive/folders/15gAS8JGEOs1sVMmS1ey5F-bh9Iv4Pn9s)\n",
        "- [Part 3. 머신러닝 상품화를 위한 클라우드 플랫폼 강의 자료](https://drive.google.com/drive/folders/18qOU8PMr2HdozJQUNsVEuKNec16ioFnK)\n",
        "- [Part 4. IT 대기업 이커머스, 금융, 제조업 사례 강의 자료](https://drive.google.com/drive/folders/1e2jbggR2EJrL5LvW-lZRHshwmRcgl_mx)\n",
        "- [부가 자료](https://drive.google.com/drive/folders/1P28MHdg1sq1fZPMwi5ElAuWFMGhCxaKs)"
      ],
      "metadata": {
        "id": "J-UzbteyXC95"
      }
    },
    {
      "cell_type": "code",
      "source": [],
      "metadata": {
        "id": "rE5MmmQPXLp1"
      },
      "execution_count": null,
      "outputs": []
    }
  ]
}